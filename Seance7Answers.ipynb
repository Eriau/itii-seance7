{
  "nbformat": 4,
  "nbformat_minor": 0,
  "metadata": {
    "kernelspec": {
      "display_name": "Python 3",
      "language": "python",
      "name": "python3"
    },
    "language_info": {
      "codemirror_mode": {
        "name": "ipython",
        "version": 3
      },
      "file_extension": ".py",
      "mimetype": "text/x-python",
      "name": "python",
      "nbconvert_exporter": "python",
      "pygments_lexer": "ipython3",
      "version": "3.7.6"
    },
    "colab": {
      "name": "Copie de Seance7.ipynb",
      "provenance": [],
      "collapsed_sections": [],
      "include_colab_link": true
    }
  },
  "cells": [
    {
      "cell_type": "markdown",
      "metadata": {
        "id": "view-in-github",
        "colab_type": "text"
      },
      "source": [
        "<a href=\"https://colab.research.google.com/github/Eriau/itii-seance7/blob/master/Seance7Answers.ipynb\" target=\"_parent\"><img src=\"https://colab.research.google.com/assets/colab-badge.svg\" alt=\"Open In Colab\"/></a>"
      ]
    },
    {
      "cell_type": "markdown",
      "metadata": {
        "id": "3mEO9fgP4gFI"
      },
      "source": [
        "En utilisant numpy:"
      ]
    },
    {
      "cell_type": "markdown",
      "metadata": {
        "id": "aSnsTxdF4gFJ"
      },
      "source": [
        "Ex 1 :Addition\n",
        "Écrire un programme pour lire les éléments de deux matrices et ajoutez les deux matrices dans la troisième.\n",
        "\n",
        "La somme de deux matrices de taille (m,n), $(A_{ij}) et (B_{ij}) notée $A+B$  est à nouveau une matrice (C_{ij}) de taille (m,n), obtenue en additionnant les éléments correspondants: $c_{ij}=a_{ij}+b_{ij}$\n"
      ]
    },
    {
      "cell_type": "code",
      "metadata": {
        "id": "hotJIrVv4gFJ",
        "colab": {
          "base_uri": "https://localhost:8080/"
        },
        "outputId": "85b2c424-d4a6-46ad-bf77-51c620e9cdcc"
      },
      "source": [
        "import numpy as np\n",
        "\n",
        "a = np.array([[1,2,3],[4,5,6],[7,8,9]]) # Une matrice\n",
        "b = np.array([[9,8,7],[6,5,4],[3,2,1]])\n",
        "\n",
        "def sommeAfficheMats(matUn, matDeux):\n",
        "  if matUn.shape == matDeux.shape :\n",
        "    matTrois = matUn + matDeux\n",
        "    print(\"{0}+{1}={2}\".format(matUn,matDeux,matTrois))\n",
        "  else :\n",
        "    print(\"Pas les bonnes dimensions\")\n",
        "\n",
        "sommeAfficheMats(a, b) # Pas ouf l'affichage"
      ],
      "execution_count": null,
      "outputs": [
        {
          "output_type": "stream",
          "text": [
            "[[1 2 3]\n",
            " [4 5 6]\n",
            " [7 8 9]]+[[9 8 7]\n",
            " [6 5 4]\n",
            " [3 2 1]]=[[10 10 10]\n",
            " [10 10 10]\n",
            " [10 10 10]]\n"
          ],
          "name": "stdout"
        }
      ]
    },
    {
      "cell_type": "markdown",
      "metadata": {
        "id": "qOMZ60X04gFK"
      },
      "source": [
        "Ex2 :Multiplication\n",
        "Écrire un programme pour lire les éléments de deux matrices, puis multipliez les deux matrices dans la troisième.\n",
        "\n",
        "Deux matrices ne peuvent être multipliées que si le nombre de colonnes de la première matrice est le même que le nombre de lignes de la seconde matrice.\n",
        "\n",
        "Si $ A=(a_{ij})$ est une matrice de taille (m,n), $ B=(b_{ij})$ et est une matrice de taille (n,p), alors leur produit, noté $AB=(c_{ij})$ est une matrice de taille (m,p) définie par :\n",
        "$$\\forall i,j : c_{ij}=\\sum_{k=i}^{n} a_{ik}*b_{kj}$$"
      ]
    },
    {
      "cell_type": "code",
      "metadata": {
        "id": "j7NONJPy4gFK",
        "colab": {
          "base_uri": "https://localhost:8080/"
        },
        "outputId": "89a9b3f1-8ee8-456e-a16d-963f63fdcab4"
      },
      "source": [
        "import numpy as np\n",
        "\n",
        "a = np.array([[1,2,3],[4,5,6],[7,8,9]]) # Une matrice\n",
        "b = np.array([[9,8,7],[6,5,4],[3,2,1]])\n",
        "\n",
        "def produitAfficheMats(matUn, matDeux):\n",
        "  if matUn.shape[1] == matDeux.shape[0] :\n",
        "    matTrois = np.dot(matUn,matDeux)\n",
        "    print(\"{0}*{1}={2}\".format(matUn,matDeux,matTrois))\n",
        "  else :\n",
        "    print(\"Pas les bonnes dimensions\")\n",
        "\n",
        "produitAfficheMats(a, b) # Pas ouf l'affichage"
      ],
      "execution_count": null,
      "outputs": [
        {
          "output_type": "stream",
          "text": [
            "[[1 2 3]\n",
            " [4 5 6]\n",
            " [7 8 9]]*[[9 8 7]\n",
            " [6 5 4]\n",
            " [3 2 1]]=[[ 30  24  18]\n",
            " [ 84  69  54]\n",
            " [138 114  90]]\n"
          ],
          "name": "stdout"
        }
      ]
    },
    {
      "cell_type": "markdown",
      "metadata": {
        "id": "clj8hfep4gFK"
      },
      "source": [
        "Ex 3: Matrice de Markov\n",
        "\n",
        "Une matrice de Markov est une matrice carrée dont chaque élément est un réel compris entre 0 et 1 et dont la somme des éléments de chaque ligne vaut 1. Cela correspond, en probabilité, à la matrice de transition d'une chaîne de Markov finie.\n",
        "\n",
        "Une matrice est dite bistochastique (ou doublement stochastique) si la somme des éléments de chaque ligne et de chaque colonne vaut 1.\n",
        "\n",
        "1. Ecrire une fonction eststochastique(P) qui permet de vérifier est ce que la matrice P est stochastique ou non\n",
        "2. Ecrire une fonction estbistochastique(P) qui permet de vérifier est ce que la matrice P est bistochastique ou non\n",
        "3. Ecrire une fonction vecteurstable(G, h) qui permet de vérifier est ce que h est un vecteur stable de G ou non\n",
        "\n"
      ]
    },
    {
      "cell_type": "code",
      "metadata": {
        "id": "XRQJFRBA4gFK"
      },
      "source": [
        "import numpy as np\n",
        "\n",
        "# Faudrait vérifier que c'est égal à un avec une certaine précision\n",
        "\n",
        "# 1\n",
        "\n",
        "def estStochastique(P):\n",
        "  numLigne = P.shape[0]\n",
        "  numCol = P.shape[1]\n",
        "\n",
        "  etat = False # On suppose la matrice non stochastique\n",
        "\n",
        "  for i in range numLigne :\n",
        "    sum = 0\n",
        "    for j in range numCol :\n",
        "      s += P[i][j]\n",
        "    if abs(((s - 1)/s) < 1e-6)) :\n",
        "        etat = True  \n",
        "    elif s > 1 :\n",
        "      etat = False\n",
        "      break\n",
        "  return etat \n",
        "\n",
        "# 2\n",
        "\n",
        "def estBistochastique(P):\n",
        "  numLigne = P.shape[0]\n",
        "  numCol = P.shape[1]\n",
        "\n",
        "  etat = False # On suppose la matrice non bistochastique\n",
        "\n",
        "  if estStochastique(P):\n",
        "    for i in range numCol :\n",
        "      sum = 0\n",
        "      for j in range numLigne :\n",
        "        s += P[i][j]\n",
        "      if abs(((s - 1)/s) < 1e-6)) :\n",
        "        etat = True\n",
        "      elif s > 1 :\n",
        "        etat = False\n",
        "        break\n",
        "  else:\n",
        "    etat = False\n",
        "  return etat \n",
        "\n",
        "# 3\n",
        "\n",
        "def vecteurStable(G, h):\n",
        "  numLigne = G.shape[0]\n",
        "  numCol = G.shape[1]\n",
        "\n",
        "  etat = True # On suppose que h est un vecteur stable de G\n",
        "\n",
        "  if estStochastique(G) :\n",
        "    for j in range numCol :\n",
        "      s = 0\n",
        "      for i in range numLigne :\n",
        "        s += h[i]*G[i][j]\n",
        "      if s != h[j] :\n",
        "        etat = False\n",
        "    return Etat"
      ],
      "execution_count": null,
      "outputs": []
    },
    {
      "cell_type": "markdown",
      "metadata": {
        "id": "VM189ASZ4gFK"
      },
      "source": [
        "Ex 4: Transposer\n",
        "\n",
        "Programmer une fonction qui, étant donné une matrice à deux dimensions A, retourne lamatrice B dont la première colonne est la première ligne de A, la seconde la deuxième ligne de A, etc. B s’appelle la transposée de A."
      ]
    },
    {
      "cell_type": "code",
      "metadata": {
        "id": "VIE-IY3I4gFK",
        "colab": {
          "base_uri": "https://localhost:8080/"
        },
        "outputId": "6c5aeded-afbd-4422-ed5a-4e91e82da133"
      },
      "source": [
        "import numpy as np\n",
        "\n",
        "a = np.array([[1,2,3],[4,5,6],[7,8,9]]) # Une matrice\n",
        "\n",
        "def transp(mat):\n",
        "  matTransp = mat.T\n",
        "  return matTransp\n",
        "\n",
        "b = transp(a)\n",
        "print(b)"
      ],
      "execution_count": null,
      "outputs": [
        {
          "output_type": "stream",
          "text": [
            "[[1 4 7]\n",
            " [2 5 8]\n",
            " [3 6 9]]\n"
          ],
          "name": "stdout"
        }
      ]
    },
    {
      "cell_type": "markdown",
      "metadata": {
        "id": "S0jZfHrf4gFK"
      },
      "source": [
        "Ex 5: Permutations\n",
        "1. $M$ désignant une matrice quelconque d’entiers à $l_i$ lignes et $co$ colonnes, $n$ un entier quelconque, programmer une fonction qui retourne la matrice $Sortie$ qui empile verticalement les $co+1$ matrices obtenues en adjoignant à $M$ une colonne $A$ à $li$ lignes dont tousles éléments sont égaux à $n$, $A$ étant placée d’abord devant $M$, puis entre la première et deuxième colonne de $M^a$,etc, jusqu’à ce que $A$ devienne sa dernière colonne. La matriceobtenue  aura $co+1$ colonnes et $(n+1)$ $li$ lignes\n",
        "\n",
        "2. Écrire toutes les permutations de(1, ..., n)"
      ]
    },
    {
      "cell_type": "code",
      "metadata": {
        "id": "ynPeZ4YaBN9i"
      },
      "source": [
        "# appliquer une permutation\n",
        "def apply_permutation(A,perm,N):\n",
        "    B=np.empty_like(A) # A est une matrice NxN d'entiers dans range(N)\n",
        "    for i in range(N):\n",
        "            B[A[:]==i]=perm[i] # perm est une permutation de range(N)\n",
        "    return B"
      ],
      "execution_count": null,
      "outputs": []
    }
  ]
}